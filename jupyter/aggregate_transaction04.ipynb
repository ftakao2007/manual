{
 "cells": [
  {
   "cell_type": "markdown",
   "id": "3600e71e",
   "metadata": {},
   "source": [
    "# Symbolブロックチェーンのメタデータを登録するトランザクションをPythonで作成する\n",
    "\n",
    "[Symbolブロックチェーンのメタデータを登録するトランザクションをPythonで作成する](https://qiita.com/nem_takanobu/items/1bae08b02e84f2708aa0)"
   ]
  },
  {
   "cell_type": "code",
   "execution_count": 1,
   "id": "369f78ee",
   "metadata": {},
   "outputs": [],
   "source": [
    "# 事前準備\n",
    "import sha3\n",
    "import json\n",
    "import http.client\n",
    "import datetime\n",
    "from binascii import hexlify\n",
    "from binascii import unhexlify\n",
    "from symbolchain.core.CryptoTypes import PrivateKey\n",
    "from symbolchain.core.sym.KeyPair import KeyPair\n",
    "from symbolchain.core.facade.SymFacade import SymFacade\n",
    "from symbolchain.core.CryptoTypes import PublicKey\n",
    "from symbolchain.core.sym.IdGenerator import generate_namespace_id\n",
    "from symbolchain.core.sym.MerkleHashBuilder import MerkleHashBuilder\n",
    "from symbolchain.core.CryptoTypes import Hash256"
   ]
  },
  {
   "cell_type": "code",
   "execution_count": 2,
   "id": "de50d7c5",
   "metadata": {},
   "outputs": [],
   "source": [
    "# メタデータの作成\n",
    "hasher = sha3.sha3_256()\n",
    "hasher.update('certificate'.encode('utf8'))\n",
    "digest = hasher.digest()\n",
    "metadataKey = int.from_bytes(digest[0:8], 'little')\n",
    "metadataValue = 'aaa'"
   ]
  },
  {
   "cell_type": "code",
   "execution_count": 3,
   "id": "b30f8750",
   "metadata": {},
   "outputs": [
    {
     "name": "stdout",
     "output_type": "stream",
     "text": [
      "TCTYURCDVGFXZSFQIBDZW5VEY6TNWOP3BMDJFNQ\n",
      "90BFDC5F21BA5B727D32CA86DC59AC855A50295BA60F828152A302AAA4A70A9E\n",
      "b'4eef24d2fdb1295c2ddb6d83a43bbe8bfbc4983f19aa9435c4ad3c6d4b3caf82'\n",
      "202 Accepted\n",
      "https://sym-test-01.opening-line.jp:3001/transactionStatus/4EEF24D2FDB1295C2DDB6D83A43BBE8BFBC4983F19AA9435C4AD3C6D4B3CAF82\n"
     ]
    }
   ],
   "source": [
    "# メタデータの登録\n",
    "facade = SymFacade('public_test')\n",
    "\n",
    "b = unhexlify(\"見せられないよ！\")\n",
    "\n",
    "alicePrikey = PrivateKey(b)\n",
    "aliceKeypair = KeyPair(alicePrikey)\n",
    "alicePubkey = aliceKeypair.public_key\n",
    "aliceAddress = facade.network.public_key_to_address(alicePubkey)\n",
    "str(aliceAddress)\n",
    "\n",
    "\n",
    "bobPrikey = PrivateKey.random()\n",
    "bobKeypair = SymFacade.KeyPair(bobPrikey)\n",
    "print(str(facade.network.public_key_to_address(bobKeypair.public_key)))\n",
    "print(str(bobKeypair.public_key))\n",
    "strBobPubkey = str(bobKeypair.public_key)\n",
    "strBobAddress = str(facade.network.public_key_to_address(bobKeypair.public_key))\n",
    "\n",
    "bobPubkey = PublicKey(unhexlify(strBobPubkey))\n",
    "bobAddress = SymFacade.Address(strBobAddress)\n",
    "\n",
    "aliceTx = facade.transaction_factory.create_embedded({\n",
    "    'type': 'accountMetadata',\n",
    "    'signer_public_key': alicePubkey,\n",
    "    'target_address': bobAddress,\n",
    "    'scoped_metadata_key': metadataKey,\n",
    "    'value_size_delta': len(metadataValue),\n",
    "    'value': metadataValue\n",
    "})\n",
    "\n",
    "hash_builder = MerkleHashBuilder()\n",
    "hash_builder.update(Hash256(sha3.sha3_256(aliceTx.serialize()).digest()))\n",
    "merkle_hash = hash_builder.final()\n",
    "\n",
    "deadline = (int((datetime.datetime.today() + datetime.timedelta(hours=2)).timestamp()) - 1616694977) * 1000\n",
    "\n",
    "aggregate = facade.transaction_factory.create({\n",
    "    'type': 'aggregateComplete',\n",
    "    'signer_public_key': alicePubkey,\n",
    "    'fee': 1000000,\n",
    "    'deadline': deadline,\n",
    "    'transactions_hash': merkle_hash,\n",
    "    'transactions': [aliceTx]\n",
    "})\n",
    "\n",
    "signature = facade.sign_transaction(aliceKeypair, aggregate)\n",
    "aggregate.signature = signature.bytes\n",
    "hash = facade.hash_transaction(aggregate).bytes\n",
    "hexlifiedHash = hexlify(hash)\n",
    "print(hexlifiedHash)\n",
    "\n",
    "#bob側で署名して\n",
    "hexlifiedSignedHash = str(bobKeypair.sign(unhexlify(hexlifiedHash)))\n",
    "cosignature = (0, bobPubkey.bytes, unhexlify(hexlifiedSignedHash))\n",
    "aggregate.cosignatures.append(cosignature)\n",
    "\n",
    "payload = {\"payload\": hexlify(aggregate.serialize()).decode('utf8').upper()}\n",
    "\n",
    "strJson = json.dumps(payload)\n",
    "headers = {'Content-type': 'application/json'}\n",
    "\n",
    "conn = http.client.HTTPConnection(\"sym-test-01.opening-line.jp\",3000)\n",
    "conn.request(\"PUT\", \"/transactions\", strJson,headers)\n",
    "\n",
    "response = conn.getresponse()\n",
    "print(response.status, response.reason)\n",
    "\n",
    "hash = facade.hash_transaction(aggregate)\n",
    "print('https://sym-test-01.opening-line.jp:3001/transactionStatus/' + str(hash))"
   ]
  },
  {
   "cell_type": "code",
   "execution_count": 4,
   "id": "97f106b5",
   "metadata": {},
   "outputs": [],
   "source": [
    "# メタデータの更新\n",
    "newMetadataValue = 'bbb'\n",
    "xorValue = \"\".join([chr(ord(data) ^ ord(code))\n",
    "    for (data, code) in zip(metadataValue, newMetadataValue)]).encode().hex()"
   ]
  },
  {
   "cell_type": "code",
   "execution_count": 5,
   "id": "9b661004",
   "metadata": {},
   "outputs": [
    {
     "name": "stdout",
     "output_type": "stream",
     "text": [
      "b'd6c171d29f763a0e0ade114d093933b6e09a810bb6fc26fe0e9b0cad660029a2'\n",
      "202 Accepted\n",
      "https://sym-test-01.opening-line.jp:3001/transactionStatus/D6C171D29F763A0E0ADE114D093933B6E09A810BB6FC26FE0E9B0CAD660029A2\n"
     ]
    }
   ],
   "source": [
    "aliceTx = facade.transaction_factory.create_embedded({\n",
    "    'type': 'accountMetadata',\n",
    "    'signer_public_key': alicePubkey,\n",
    "    'target_address': bobAddress,\n",
    "    'scoped_metadata_key': metadataKey,\n",
    "    'value_size_delta': 0,\n",
    "    'value': unhexlify(xorValue)\n",
    "})\n",
    "\n",
    "hash_builder = MerkleHashBuilder()\n",
    "hash_builder.update(Hash256(sha3.sha3_256(aliceTx.serialize()).digest()))\n",
    "merkle_hash = hash_builder.final()\n",
    "\n",
    "deadline = (int((datetime.datetime.today() + datetime.timedelta(hours=2)).timestamp()) - 1616694977) * 1000\n",
    "\n",
    "aggregate = facade.transaction_factory.create({\n",
    "    'type': 'aggregateComplete',\n",
    "    'signer_public_key': alicePubkey,\n",
    "    'fee': 1000000,\n",
    "    'deadline': deadline,\n",
    "    'transactions_hash': merkle_hash,\n",
    "    'transactions': [aliceTx]\n",
    "})\n",
    "\n",
    "signature = facade.sign_transaction(aliceKeypair, aggregate)\n",
    "aggregate.signature = signature.bytes\n",
    "\n",
    "hash = facade.hash_transaction(aggregate).bytes\n",
    "hexlifiedHash = hexlify(hash)\n",
    "print(hexlifiedHash)\n",
    "\n",
    "#bob側で署名して\n",
    "hexlifiedSignedHash = str(bobKeypair.sign(unhexlify(hexlifiedHash)))\n",
    "cosignature = (0, bobPubkey.bytes, unhexlify(hexlifiedSignedHash))\n",
    "aggregate.cosignatures.append(cosignature)\n",
    "\n",
    "payload = {\"payload\": hexlify(aggregate.serialize()).decode('utf8').upper()}\n",
    "\n",
    "strJson = json.dumps(payload)\n",
    "\n",
    "headers = {'Content-type': 'application/json'}\n",
    "\n",
    "conn = http.client.HTTPConnection(\"sym-test-01.opening-line.jp\",3000)\n",
    "conn.request(\"PUT\", \"/transactions\", strJson,headers)\n",
    "\n",
    "response = conn.getresponse()\n",
    "print(response.status, response.reason)\n",
    "\n",
    "hash = facade.hash_transaction(aggregate)\n",
    "print('https://sym-test-01.opening-line.jp:3001/transactionStatus/' + str(hash))"
   ]
  }
 ],
 "metadata": {
  "kernelspec": {
   "display_name": "Python 3",
   "language": "python",
   "name": "python3"
  },
  "language_info": {
   "codemirror_mode": {
    "name": "ipython",
    "version": 3
   },
   "file_extension": ".py",
   "mimetype": "text/x-python",
   "name": "python",
   "nbconvert_exporter": "python",
   "pygments_lexer": "ipython3",
   "version": "3.9.5"
  }
 },
 "nbformat": 4,
 "nbformat_minor": 5
}
