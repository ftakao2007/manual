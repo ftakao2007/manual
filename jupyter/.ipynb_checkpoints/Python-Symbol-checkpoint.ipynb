{
 "cells": [
  {
   "cell_type": "markdown",
   "id": "4951b76e",
   "metadata": {},
   "source": [
    "# Pythonでブロックチェーンを操作する\n",
    "\n",
    "[PythonでSymbolブロックチェーンの送金プログラムを書いてみる。](https://qiita.com/nem_takanobu/items/f3c02caa17ad385b6155)"
   ]
  },
  {
   "cell_type": "code",
   "execution_count": 1,
   "id": "292bcf56",
   "metadata": {},
   "outputs": [],
   "source": [
    "# unhexlifyを使用して秘密鍵をバイナリ化\n",
    "from binascii import unhexlify\n",
    "b = unhexlify(\"ひみつ\")"
   ]
  },
  {
   "cell_type": "code",
   "execution_count": 2,
   "id": "4b47fb34",
   "metadata": {},
   "outputs": [],
   "source": [
    "# PrivateKeyクラスを生成\n",
    "from symbolchain.core.CryptoTypes import PrivateKey\n",
    "prikey = PrivateKey(b)"
   ]
  },
  {
   "cell_type": "code",
   "execution_count": 3,
   "id": "a0f34f25",
   "metadata": {},
   "outputs": [],
   "source": [
    "# KeyPairを作成\n",
    "from symbolchain.core.sym.KeyPair import KeyPair\n",
    "keypair = KeyPair(prikey)"
   ]
  },
  {
   "cell_type": "code",
   "execution_count": 4,
   "id": "c2ff47cf",
   "metadata": {},
   "outputs": [
    {
     "name": "stdout",
     "output_type": "stream",
     "text": [
      "68641FB644954A5AD08F03B17CD028CCA01558DC610E3EF7ABE0ABF63E4236E8\n"
     ]
    }
   ],
   "source": [
    "# PublicKeyを作成\n",
    "pubkey = keypair.public_key\n",
    "print(str(keypair.public_key))"
   ]
  },
  {
   "cell_type": "code",
   "execution_count": 5,
   "id": "86caac64",
   "metadata": {},
   "outputs": [],
   "source": [
    "# Symbolのファサードを生成\n",
    "from symbolchain.core.facade.SymFacade import SymFacade\n",
    "facade = SymFacade('public_test')"
   ]
  },
  {
   "cell_type": "code",
   "execution_count": 6,
   "id": "c1f1153a",
   "metadata": {},
   "outputs": [
    {
     "name": "stdout",
     "output_type": "stream",
     "text": [
      "TDIFOJ4FFN7F3OF6IRM5IMQ7WCTTFD7BDXDY7FQ\n"
     ]
    }
   ],
   "source": [
    "# アドレスを生成\n",
    "address = facade.network.public_key_to_address(pubkey)\n",
    "print(str(address))"
   ]
  },
  {
   "cell_type": "code",
   "execution_count": 7,
   "id": "b943fa3a",
   "metadata": {},
   "outputs": [],
   "source": [
    "# トランザクションの有効期限を設定\n",
    "import datetime\n",
    "deadline = (int((datetime.datetime.today() + datetime.timedelta(hours=2)).timestamp()) - 1616694977) * 1000"
   ]
  },
  {
   "cell_type": "code",
   "execution_count": 8,
   "id": "08300002",
   "metadata": {},
   "outputs": [],
   "source": [
    "# トランザクション作成\n",
    "tx = facade.transaction_factory.create({\n",
    "  'type': 'transfer',\n",
    "  'signer_public_key': pubkey,\n",
    "  'fee': 100000,\n",
    "  'deadline': deadline,\n",
    "  'recipient_address': address,\n",
    "  'mosaics': [(0x091F837E059AE13C, 1000000)],\n",
    "  'message': bytes(1)\n",
    "})"
   ]
  },
  {
   "cell_type": "code",
   "execution_count": 9,
   "id": "10fca22b",
   "metadata": {},
   "outputs": [],
   "source": [
    "# 署名\n",
    "signature = facade.sign_transaction(keypair, tx)\n",
    "tx.signature = signature.bytes"
   ]
  },
  {
   "cell_type": "code",
   "execution_count": 10,
   "id": "d37eae58",
   "metadata": {},
   "outputs": [],
   "source": [
    "# JSON化\n",
    "from binascii import hexlify\n",
    "payload = {\"payload\": hexlify(tx.serialize()).decode('utf8').upper()}\n",
    "\n",
    "import json\n",
    "json = json.dumps(payload)"
   ]
  },
  {
   "cell_type": "code",
   "execution_count": 11,
   "id": "2f4108f1",
   "metadata": {},
   "outputs": [
    {
     "name": "stdout",
     "output_type": "stream",
     "text": [
      "202 Accepted\n"
     ]
    }
   ],
   "source": [
    "# アナウンス\n",
    "headers = {'Content-type': 'application/json'}\n",
    "import http.client\n",
    "\n",
    "conn = http.client.HTTPConnection(\"sym-test-01.opening-line.jp\",3000)\n",
    "conn.request(\"PUT\", \"/transactions\", json,headers)\n",
    "\n",
    "response = conn.getresponse()\n",
    "print(response.status, response.reason)"
   ]
  },
  {
   "cell_type": "code",
   "execution_count": 12,
   "id": "747fd464",
   "metadata": {},
   "outputs": [
    {
     "name": "stdout",
     "output_type": "stream",
     "text": [
      "https://sym-test-01.opening-line.jp:3001/transactionStatus/433691BC813BD37E5239B24375CF33806F1A88DC631CB3B761DFDD9934EA851F\n"
     ]
    }
   ],
   "source": [
    "# 確認\n",
    "hash = facade.hash_transaction(tx)\n",
    "print('https://sym-test-01.opening-line.jp:3001/transactionStatus/' + str(hash))"
   ]
  }
 ],
 "metadata": {
  "kernelspec": {
   "display_name": "Python 3",
   "language": "python",
   "name": "python3"
  },
  "language_info": {
   "codemirror_mode": {
    "name": "ipython",
    "version": 3
   },
   "file_extension": ".py",
   "mimetype": "text/x-python",
   "name": "python",
   "nbconvert_exporter": "python",
   "pygments_lexer": "ipython3",
   "version": "3.9.5"
  }
 },
 "nbformat": 4,
 "nbformat_minor": 5
}
