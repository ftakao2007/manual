{
 "cells": [
  {
   "cell_type": "markdown",
   "id": "3600e71e",
   "metadata": {},
   "source": [
    "# Symbolブロックチェーンで一人が複数人に送金するトランザクションをPythonで作成する\n",
    "\n",
    "[Symbolブロックチェーンで一人が複数人に送金するトランザクションをPythonで作成する](https://qiita.com/nem_takanobu/items/99557ff2299354aabcc4)"
   ]
  },
  {
   "cell_type": "code",
   "execution_count": 1,
   "id": "369f78ee",
   "metadata": {},
   "outputs": [],
   "source": [
    "# インポート\n",
    "from binascii import unhexlify\n",
    "from symbolchain.core.CryptoTypes import PrivateKey\n",
    "from symbolchain.core.sym.KeyPair import KeyPair\n",
    "from symbolchain.core.facade.SymFacade import SymFacade\n",
    "\n",
    "facade = SymFacade('public_test')"
   ]
  },
  {
   "cell_type": "code",
   "execution_count": 2,
   "id": "de50d7c5",
   "metadata": {},
   "outputs": [
    {
     "data": {
      "text/plain": [
       "'TDIFOJ4FFN7F3OF6IRM5IMQ7WCTTFD7BDXDY7FQ'"
      ]
     },
     "execution_count": 2,
     "metadata": {},
     "output_type": "execute_result"
    }
   ],
   "source": [
    "# 送金者の生成(Alice)\n",
    "b = unhexlify(\"見せられないよ！\")\n",
    "\n",
    "alicePrikey = PrivateKey(b)\n",
    "aliceKeypair = KeyPair(alicePrikey)\n",
    "alicePubkey = aliceKeypair.public_key\n",
    "aliceAddress = facade.network.public_key_to_address(alicePubkey)\n",
    "str(aliceAddress)"
   ]
  },
  {
   "cell_type": "code",
   "execution_count": 3,
   "id": "b30f8750",
   "metadata": {},
   "outputs": [],
   "source": [
    "# 受信者の生成(Bob, Carol)\n",
    "bobPrikey = PrivateKey.random()\n",
    "bobKeypair = SymFacade.KeyPair(bobPrikey)\n",
    "bobPubkey = bobKeypair.public_key\n",
    "bobAddress = facade.network.public_key_to_address(bobPubkey)\n",
    "\n",
    "carolPrikey = PrivateKey.random()\n",
    "carolKeypair = SymFacade.KeyPair(carolPrikey)\n",
    "carolPubkey = carolKeypair.public_key\n",
    "carolAddress = facade.network.public_key_to_address(carolPubkey)"
   ]
  },
  {
   "cell_type": "code",
   "execution_count": 4,
   "id": "97f106b5",
   "metadata": {},
   "outputs": [],
   "source": [
    "# トランザクション作成(alice)\n",
    "msg = 'test'\n",
    "bobTx = facade.transaction_factory.create_embedded({\n",
    "    'type': 'transfer',\n",
    "    'signer_public_key': alicePubkey,\n",
    "    'recipient_address': bobAddress,\n",
    "    'message': bytes(1) + msg.encode('utf8')\n",
    "})\n",
    "\n",
    "carolTx = facade.transaction_factory.create_embedded({\n",
    "    'type': 'transfer',\n",
    "    'signer_public_key': alicePubkey,\n",
    "    'recipient_address': carolAddress,\n",
    "    'message': bytes(1) + msg.encode('utf8')\n",
    "})"
   ]
  },
  {
   "cell_type": "code",
   "execution_count": 5,
   "id": "9b661004",
   "metadata": {},
   "outputs": [],
   "source": [
    "# マークルハッシュの作成\n",
    "from symbolchain.core.sym.MerkleHashBuilder import MerkleHashBuilder\n",
    "from symbolchain.core.CryptoTypes import Hash256\n",
    "import sha3\n",
    "\n",
    "hash_builder = MerkleHashBuilder()\n",
    "hash_builder.update(Hash256(sha3.sha3_256(bobTx.serialize()).digest()))\n",
    "hash_builder.update(Hash256(sha3.sha3_256(carolTx.serialize()).digest()))\n",
    "merkle_hash = hash_builder.final()"
   ]
  },
  {
   "cell_type": "code",
   "execution_count": 6,
   "id": "91f0700c",
   "metadata": {},
   "outputs": [],
   "source": [
    "# アグリゲートトランザクションの作成\n",
    "import datetime\n",
    "deadline = (int((datetime.datetime.today() + datetime.timedelta(hours=2)).timestamp()) - 1616694977) * 1000\n",
    "\n",
    "aggregate = facade.transaction_factory.create({\n",
    "    'type': 'aggregateComplete',\n",
    "    'signer_public_key': alicePubkey,\n",
    "    'fee': 1000000,\n",
    "    'deadline': deadline,\n",
    "    'transactions_hash': merkle_hash,\n",
    "    'transactions': [bobTx,carolTx]\n",
    "})\n",
    "\n",
    "signature = facade.sign_transaction(aliceKeypair, aggregate)\n",
    "aggregate.signature = signature.bytes"
   ]
  },
  {
   "cell_type": "code",
   "execution_count": 7,
   "id": "a776411c",
   "metadata": {},
   "outputs": [
    {
     "name": "stdout",
     "output_type": "stream",
     "text": [
      "202 Accepted\n"
     ]
    }
   ],
   "source": [
    "# 署名結合とネットワークへのアナウンス(alice)\n",
    "from binascii import hexlify\n",
    "payload = {\"payload\": hexlify(aggregate.serialize()).decode('utf8').upper()}\n",
    "\n",
    "import json\n",
    "json = json.dumps(payload)\n",
    "\n",
    "headers = {'Content-type': 'application/json'}\n",
    "import http.client\n",
    "\n",
    "conn = http.client.HTTPConnection(\"sym-test-01.opening-line.jp\",3000)\n",
    "conn.request(\"PUT\", \"/transactions\", json,headers)\n",
    "\n",
    "response = conn.getresponse()\n",
    "print(response.status, response.reason)"
   ]
  },
  {
   "cell_type": "code",
   "execution_count": 8,
   "id": "2d179989",
   "metadata": {},
   "outputs": [
    {
     "name": "stdout",
     "output_type": "stream",
     "text": [
      "https://sym-test-01.opening-line.jp:3001/transactionStatus/C6DACD669AE60367E0AF5418A6506CA2641D907F383CC7818DFD50AB5EBD9591\n"
     ]
    }
   ],
   "source": [
    "# 確認\n",
    "hash = facade.hash_transaction(aggregate)\n",
    "print('https://sym-test-01.opening-line.jp:3001/transactionStatus/' + str(hash))"
   ]
  }
 ],
 "metadata": {
  "kernelspec": {
   "display_name": "Python 3",
   "language": "python",
   "name": "python3"
  },
  "language_info": {
   "codemirror_mode": {
    "name": "ipython",
    "version": 3
   },
   "file_extension": ".py",
   "mimetype": "text/x-python",
   "name": "python",
   "nbconvert_exporter": "python",
   "pygments_lexer": "ipython3",
   "version": "3.9.5"
  }
 },
 "nbformat": 4,
 "nbformat_minor": 5
}
