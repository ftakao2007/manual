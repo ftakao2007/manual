{
 "cells": [
  {
   "cell_type": "markdown",
   "id": "2914b3d9",
   "metadata": {},
   "source": [
    "# Symbolブロックチェーンで複数人が同時に送金するトランザクションをPythonで作成する\n",
    "\n",
    "[Symbolブロックチェーンで複数人が同時に送金するトランザクションをPythonで作成する](https://qiita.com/nem_takanobu/items/99557ff2299354aabcc4)"
   ]
  },
  {
   "cell_type": "code",
   "execution_count": 2,
   "id": "d69fc30b",
   "metadata": {},
   "outputs": [
    {
     "data": {
      "text/plain": [
       "'TDIFOJ4FFN7F3OF6IRM5IMQ7WCTTFD7BDXDY7FQ'"
      ]
     },
     "execution_count": 2,
     "metadata": {},
     "output_type": "execute_result"
    }
   ],
   "source": [
    "# 起案者アカウント(alice)の準備\n",
    "\n",
    "from binascii import unhexlify\n",
    "from symbolchain.core.CryptoTypes import PrivateKey\n",
    "from symbolchain.core.sym.KeyPair import KeyPair\n",
    "from symbolchain.core.facade.SymFacade import SymFacade\n",
    "\n",
    "facade = SymFacade('public_test')\n",
    "\n",
    "b = unhexlify(\"見せられないよ！\")\n",
    "\n",
    "alicePrikey = PrivateKey(b)\n",
    "aliceKeypair = KeyPair(alicePrikey)\n",
    "alicePubkey = aliceKeypair.public_key\n",
    "aliceAddress = facade.network.public_key_to_address(alicePubkey)\n",
    "str(aliceAddress)"
   ]
  },
  {
   "cell_type": "code",
   "execution_count": 3,
   "id": "34b5ed74",
   "metadata": {},
   "outputs": [],
   "source": [
    "# 連署アカウント(bob)の準備\n",
    "\n",
    "bobPrikey = PrivateKey.random()\n",
    "bobKeypair = SymFacade.KeyPair(bobPrikey)\n",
    "strBobPubkey = str(bobKeypair.public_key)\n",
    "strBobAddress = str(facade.network.public_key_to_address(bobKeypair.public_key))"
   ]
  },
  {
   "cell_type": "code",
   "execution_count": 4,
   "id": "67687699",
   "metadata": {},
   "outputs": [
    {
     "name": "stdout",
     "output_type": "stream",
     "text": [
      "b'e5d5cea6b33ae6d2dcd936bb376dfe5653ec2c75c30929e03576bb8314b394ce'\n"
     ]
    }
   ],
   "source": [
    "# トランザクションの作成(alice)\n",
    "\n",
    "from symbolchain.core.CryptoTypes import PublicKey\n",
    "bobPubkey = PublicKey(unhexlify(strBobPubkey))\n",
    "bobAddress = SymFacade.Address(strBobAddress)\n",
    "\n",
    "msg = 'test'\n",
    "bobTx = facade.transaction_factory.create_embedded({\n",
    "    'type': 'transfer',\n",
    "    'signer_public_key': bobPubkey,\n",
    "    'recipient_address': aliceAddress,\n",
    "    'message': bytes(1) + msg.encode('utf8')\n",
    "})\n",
    "\n",
    "aliceTx = facade.transaction_factory.create_embedded({\n",
    "    'type': 'transfer',\n",
    "    'signer_public_key': alicePubkey,\n",
    "    'recipient_address': bobAddress,\n",
    "    'message': bytes(1) + msg.encode('utf8')\n",
    "})\n",
    "\n",
    "from symbolchain.core.sym.MerkleHashBuilder import MerkleHashBuilder\n",
    "from symbolchain.core.CryptoTypes import Hash256\n",
    "import sha3\n",
    "\n",
    "hash_builder = MerkleHashBuilder()\n",
    "hash_builder.update(Hash256(sha3.sha3_256(aliceTx.serialize()).digest()))\n",
    "hash_builder.update(Hash256(sha3.sha3_256(bobTx.serialize()).digest()))\n",
    "merkle_hash = hash_builder.final()\n",
    "\n",
    "import datetime\n",
    "deadline = (int((datetime.datetime.today() + datetime.timedelta(hours=2)).timestamp()) - 1616694977) * 1000\n",
    "\n",
    "aggregate = facade.transaction_factory.create({\n",
    "    'type': 'aggregateComplete',\n",
    "    'signer_public_key': alicePubkey,\n",
    "    'fee': 1000000,\n",
    "    'deadline': deadline,\n",
    "    'transactions_hash': merkle_hash,\n",
    "    'transactions': [aliceTx,bobTx]\n",
    "})\n",
    "\n",
    "signature = facade.sign_transaction(aliceKeypair, aggregate)\n",
    "aggregate.signature = signature.bytes\n",
    "\n",
    "from binascii import hexlify\n",
    "hash = facade.hash_transaction(aggregate).bytes\n",
    "hexlifiedHash = hexlify(hash)\n",
    "print(hexlifiedHash)"
   ]
  },
  {
   "cell_type": "code",
   "execution_count": 5,
   "id": "905f45aa",
   "metadata": {},
   "outputs": [
    {
     "name": "stdout",
     "output_type": "stream",
     "text": [
      "314AE5DD551E922E905A494F92899A49E5E0942719ACD40D3FABA2382082DBEAA507C02B3563E67C5B4D5D93B14A567B1F12026DC3C3DCC32B4CFCEB1A4F4A01\n"
     ]
    }
   ],
   "source": [
    "# 連署者署名(bob)\n",
    "\n",
    "hexlifiedSignedHash = str(bobKeypair.sign(unhexlify(hexlifiedHash)))\n",
    "print(hexlifiedSignedHash)"
   ]
  },
  {
   "cell_type": "code",
   "execution_count": 6,
   "id": "27c5dae9",
   "metadata": {},
   "outputs": [
    {
     "name": "stdout",
     "output_type": "stream",
     "text": [
      "202 Accepted\n"
     ]
    }
   ],
   "source": [
    "# 署名結合とネットワークへのアナウンス(alice)\n",
    "\n",
    "cosignature = (0, bobPubkey.bytes, unhexlify(hexlifiedSignedHash))\n",
    "aggregate.cosignatures.append(cosignature)\n",
    "\n",
    "from binascii import hexlify\n",
    "payload = {\"payload\": hexlify(aggregate.serialize()).decode('utf8').upper()}\n",
    "\n",
    "import json\n",
    "jsonPayload = json.dumps(payload)\n",
    "headers = {'Content-type': 'application/json'}\n",
    "\n",
    "import http.client\n",
    "conn = http.client.HTTPConnection(\"sym-test-01.opening-line.jp\",3000)\n",
    "conn.request(\"PUT\", \"/transactions\", jsonPayload,headers)\n",
    "\n",
    "response = conn.getresponse()\n",
    "print(response.status, response.reason)"
   ]
  },
  {
   "cell_type": "code",
   "execution_count": 7,
   "id": "599a15ba",
   "metadata": {},
   "outputs": [
    {
     "name": "stdout",
     "output_type": "stream",
     "text": [
      "https://sym-test-01.opening-line.jp:3001/transactionStatus/E5D5CEA6B33AE6D2DCD936BB376DFE5653EC2C75C30929E03576BB8314B394CE\n"
     ]
    }
   ],
   "source": [
    "# 確認\n",
    "hash = facade.hash_transaction(aggregate)\n",
    "print('https://sym-test-01.opening-line.jp:3001/transactionStatus/' + str(hash))"
   ]
  }
 ],
 "metadata": {
  "kernelspec": {
   "display_name": "Python 3",
   "language": "python",
   "name": "python3"
  },
  "language_info": {
   "codemirror_mode": {
    "name": "ipython",
    "version": 3
   },
   "file_extension": ".py",
   "mimetype": "text/x-python",
   "name": "python",
   "nbconvert_exporter": "python",
   "pygments_lexer": "ipython3",
   "version": "3.9.5"
  }
 },
 "nbformat": 4,
 "nbformat_minor": 5
}
