{
 "cells": [
  {
   "cell_type": "markdown",
   "id": "2914b3d9",
   "metadata": {},
   "source": [
    "# Symbolブロックチェーンで複数人が同時に送金するトランザクションをPythonで作成する(2)\n",
    "\n",
    "[Symbolブロックチェーンで複数人が同時に送金するトランザクションをPythonで作成する(2)](https://qiita.com/nem_takanobu/items/7e7bed7e612b613cf296)"
   ]
  },
  {
   "cell_type": "code",
   "execution_count": 1,
   "id": "d69fc30b",
   "metadata": {},
   "outputs": [
    {
     "data": {
      "text/plain": [
       "'TDIFOJ4FFN7F3OF6IRM5IMQ7WCTTFD7BDXDY7FQ'"
      ]
     },
     "execution_count": 1,
     "metadata": {},
     "output_type": "execute_result"
    }
   ],
   "source": [
    "# 起案者アカウント(alice)の準備\n",
    "\n",
    "from binascii import unhexlify\n",
    "from symbolchain.core.CryptoTypes import PrivateKey\n",
    "from symbolchain.core.sym.KeyPair import KeyPair\n",
    "from symbolchain.core.facade.SymFacade import SymFacade\n",
    "\n",
    "facade = SymFacade('public_test')\n",
    "\n",
    "b = unhexlify(\"見せられないよ！\")\n",
    "\n",
    "alicePrikey = PrivateKey(b)\n",
    "aliceKeypair = KeyPair(alicePrikey)\n",
    "alicePubkey = aliceKeypair.public_key\n",
    "aliceAddress = facade.network.public_key_to_address(alicePubkey)\n",
    "str(aliceAddress)"
   ]
  },
  {
   "cell_type": "code",
   "execution_count": 9,
   "id": "34b5ed74",
   "metadata": {},
   "outputs": [],
   "source": [
    "# 連署アカウント(bob)の準備\n",
    "# from symbolchain.core.CryptoTypes import PublicKey\n",
    "# bobPubkey = PublicKey(unhexlify(\"\"))\n",
    "# bobAddress = SymFacade.Address(\"\")\n",
    "\n",
    "bobPrikey = PrivateKey.random()\n",
    "bobKeypair = SymFacade.KeyPair(bobPrikey)\n",
    "strBobPubkey = str(bobKeypair.public_key)\n",
    "strBobAddress = str(facade.network.public_key_to_address(bobKeypair.public_key))"
   ]
  },
  {
   "cell_type": "code",
   "execution_count": 15,
   "id": "67687699",
   "metadata": {},
   "outputs": [
    {
     "ename": "AssertionError",
     "evalue": "required argument bytes(24)",
     "output_type": "error",
     "traceback": [
      "\u001b[0;31m---------------------------------------------------------------------------\u001b[0m",
      "\u001b[0;31mAssertionError\u001b[0m                            Traceback (most recent call last)",
      "\u001b[0;32m<ipython-input-15-bb8c7e317418>\u001b[0m in \u001b[0;36m<module>\u001b[0;34m\u001b[0m\n\u001b[1;32m     24\u001b[0m \u001b[0;34m\u001b[0m\u001b[0m\n\u001b[1;32m     25\u001b[0m \u001b[0mhash_builder\u001b[0m \u001b[0;34m=\u001b[0m \u001b[0mMerkleHashBuilder\u001b[0m\u001b[0;34m(\u001b[0m\u001b[0;34m)\u001b[0m\u001b[0;34m\u001b[0m\u001b[0;34m\u001b[0m\u001b[0m\n\u001b[0;32m---> 26\u001b[0;31m \u001b[0mhash_builder\u001b[0m\u001b[0;34m.\u001b[0m\u001b[0mupdate\u001b[0m\u001b[0;34m(\u001b[0m\u001b[0mHash256\u001b[0m\u001b[0;34m(\u001b[0m\u001b[0msha3\u001b[0m\u001b[0;34m.\u001b[0m\u001b[0msha3_256\u001b[0m\u001b[0;34m(\u001b[0m\u001b[0maliceTx\u001b[0m\u001b[0;34m.\u001b[0m\u001b[0mserialize\u001b[0m\u001b[0;34m(\u001b[0m\u001b[0;34m)\u001b[0m\u001b[0;34m)\u001b[0m\u001b[0;34m.\u001b[0m\u001b[0mdigest\u001b[0m\u001b[0;34m(\u001b[0m\u001b[0;34m)\u001b[0m\u001b[0;34m)\u001b[0m\u001b[0;34m)\u001b[0m\u001b[0;34m\u001b[0m\u001b[0;34m\u001b[0m\u001b[0m\n\u001b[0m\u001b[1;32m     27\u001b[0m \u001b[0mhash_builder\u001b[0m\u001b[0;34m.\u001b[0m\u001b[0mupdate\u001b[0m\u001b[0;34m(\u001b[0m\u001b[0mHash256\u001b[0m\u001b[0;34m(\u001b[0m\u001b[0msha3\u001b[0m\u001b[0;34m.\u001b[0m\u001b[0msha3_256\u001b[0m\u001b[0;34m(\u001b[0m\u001b[0mbobTx\u001b[0m\u001b[0;34m.\u001b[0m\u001b[0mserialize\u001b[0m\u001b[0;34m(\u001b[0m\u001b[0;34m)\u001b[0m\u001b[0;34m)\u001b[0m\u001b[0;34m.\u001b[0m\u001b[0mdigest\u001b[0m\u001b[0;34m(\u001b[0m\u001b[0;34m)\u001b[0m\u001b[0;34m)\u001b[0m\u001b[0;34m)\u001b[0m\u001b[0;34m\u001b[0m\u001b[0;34m\u001b[0m\u001b[0m\n\u001b[1;32m     28\u001b[0m \u001b[0mmerkle_hash\u001b[0m \u001b[0;34m=\u001b[0m \u001b[0mhash_builder\u001b[0m\u001b[0;34m.\u001b[0m\u001b[0mfinal\u001b[0m\u001b[0;34m(\u001b[0m\u001b[0;34m)\u001b[0m\u001b[0;34m\u001b[0m\u001b[0;34m\u001b[0m\u001b[0m\n",
      "\u001b[0;32m/usr/local/pyenv/versions/jupyter/lib/python3.9/site-packages/symbol_catbuffer/EmbeddedTransferTransactionBuilder.py\u001b[0m in \u001b[0;36mserialize\u001b[0;34m(self)\u001b[0m\n\u001b[1;32m    127\u001b[0m         \"\"\"\n\u001b[1;32m    128\u001b[0m         \u001b[0mbytes_\u001b[0m \u001b[0;34m=\u001b[0m \u001b[0mbytes\u001b[0m\u001b[0;34m(\u001b[0m\u001b[0;34m)\u001b[0m\u001b[0;34m\u001b[0m\u001b[0;34m\u001b[0m\u001b[0m\n\u001b[0;32m--> 129\u001b[0;31m         \u001b[0mbytes_\u001b[0m \u001b[0;34m=\u001b[0m \u001b[0mGeneratorUtils\u001b[0m\u001b[0;34m.\u001b[0m\u001b[0mconcat_typed_arrays\u001b[0m\u001b[0;34m(\u001b[0m\u001b[0mbytes_\u001b[0m\u001b[0;34m,\u001b[0m \u001b[0msuper\u001b[0m\u001b[0;34m(\u001b[0m\u001b[0;34m)\u001b[0m\u001b[0;34m.\u001b[0m\u001b[0mserialize\u001b[0m\u001b[0;34m(\u001b[0m\u001b[0;34m)\u001b[0m\u001b[0;34m)\u001b[0m\u001b[0;34m\u001b[0m\u001b[0;34m\u001b[0m\u001b[0m\n\u001b[0m\u001b[1;32m    130\u001b[0m         \u001b[0mbytes_\u001b[0m \u001b[0;34m=\u001b[0m \u001b[0mGeneratorUtils\u001b[0m\u001b[0;34m.\u001b[0m\u001b[0mconcat_typed_arrays\u001b[0m\u001b[0;34m(\u001b[0m\u001b[0mbytes_\u001b[0m\u001b[0;34m,\u001b[0m \u001b[0mself\u001b[0m\u001b[0;34m.\u001b[0m\u001b[0mbody\u001b[0m\u001b[0;34m.\u001b[0m\u001b[0mserialize\u001b[0m\u001b[0;34m(\u001b[0m\u001b[0;34m)\u001b[0m\u001b[0;34m)\u001b[0m  \u001b[0;31m# kind:CUSTOM\u001b[0m\u001b[0;34m\u001b[0m\u001b[0;34m\u001b[0m\u001b[0m\n\u001b[1;32m    131\u001b[0m         \u001b[0;32mreturn\u001b[0m \u001b[0mbytes_\u001b[0m\u001b[0;34m\u001b[0m\u001b[0;34m\u001b[0m\u001b[0m\n",
      "\u001b[0;32m/usr/local/pyenv/versions/jupyter/lib/python3.9/site-packages/symbol_catbuffer/EmbeddedTransactionBuilder.py\u001b[0m in \u001b[0;36mserialize\u001b[0;34m(self)\u001b[0m\n\u001b[1;32m    119\u001b[0m         \"\"\"\n\u001b[1;32m    120\u001b[0m         \u001b[0mbytes_\u001b[0m \u001b[0;34m=\u001b[0m \u001b[0mbytes\u001b[0m\u001b[0;34m(\u001b[0m\u001b[0;34m)\u001b[0m\u001b[0;34m\u001b[0m\u001b[0;34m\u001b[0m\u001b[0m\n\u001b[0;32m--> 121\u001b[0;31m         \u001b[0mbytes_\u001b[0m \u001b[0;34m=\u001b[0m \u001b[0mGeneratorUtils\u001b[0m\u001b[0;34m.\u001b[0m\u001b[0mconcat_typed_arrays\u001b[0m\u001b[0;34m(\u001b[0m\u001b[0mbytes_\u001b[0m\u001b[0;34m,\u001b[0m \u001b[0mGeneratorUtils\u001b[0m\u001b[0;34m.\u001b[0m\u001b[0muint_to_buffer\u001b[0m\u001b[0;34m(\u001b[0m\u001b[0mself\u001b[0m\u001b[0;34m.\u001b[0m\u001b[0mget_size\u001b[0m\u001b[0;34m(\u001b[0m\u001b[0;34m)\u001b[0m\u001b[0;34m,\u001b[0m \u001b[0;36m4\u001b[0m\u001b[0;34m)\u001b[0m\u001b[0;34m)\u001b[0m  \u001b[0;31m# serial_kind:SIMPLE\u001b[0m\u001b[0;34m\u001b[0m\u001b[0;34m\u001b[0m\u001b[0m\n\u001b[0m\u001b[1;32m    122\u001b[0m         \u001b[0mbytes_\u001b[0m \u001b[0;34m=\u001b[0m \u001b[0mGeneratorUtils\u001b[0m\u001b[0;34m.\u001b[0m\u001b[0mconcat_typed_arrays\u001b[0m\u001b[0;34m(\u001b[0m\u001b[0mbytes_\u001b[0m\u001b[0;34m,\u001b[0m \u001b[0mGeneratorUtils\u001b[0m\u001b[0;34m.\u001b[0m\u001b[0muint_to_buffer\u001b[0m\u001b[0;34m(\u001b[0m\u001b[0;36m0\u001b[0m\u001b[0;34m,\u001b[0m \u001b[0;36m4\u001b[0m\u001b[0;34m)\u001b[0m\u001b[0;34m)\u001b[0m\u001b[0;34m\u001b[0m\u001b[0;34m\u001b[0m\u001b[0m\n\u001b[1;32m    123\u001b[0m         \u001b[0mbytes_\u001b[0m \u001b[0;34m=\u001b[0m \u001b[0mGeneratorUtils\u001b[0m\u001b[0;34m.\u001b[0m\u001b[0mconcat_typed_arrays\u001b[0m\u001b[0;34m(\u001b[0m\u001b[0mbytes_\u001b[0m\u001b[0;34m,\u001b[0m \u001b[0mKeyDto\u001b[0m\u001b[0;34m(\u001b[0m\u001b[0mself\u001b[0m\u001b[0;34m.\u001b[0m\u001b[0msigner_public_key\u001b[0m\u001b[0;34m)\u001b[0m\u001b[0;34m.\u001b[0m\u001b[0mserialize\u001b[0m\u001b[0;34m(\u001b[0m\u001b[0;34m)\u001b[0m\u001b[0;34m)\u001b[0m  \u001b[0;31m# kind:CUSTOM\u001b[0m\u001b[0;34m\u001b[0m\u001b[0;34m\u001b[0m\u001b[0m\n",
      "\u001b[0;32m/usr/local/pyenv/versions/jupyter/lib/python3.9/site-packages/symbol_catbuffer/EmbeddedTransferTransactionBuilder.py\u001b[0m in \u001b[0;36mget_size\u001b[0;34m(self)\u001b[0m\n\u001b[1;32m    118\u001b[0m         \"\"\"\n\u001b[1;32m    119\u001b[0m         \u001b[0msize\u001b[0m \u001b[0;34m=\u001b[0m \u001b[0msuper\u001b[0m\u001b[0;34m(\u001b[0m\u001b[0;34m)\u001b[0m\u001b[0;34m.\u001b[0m\u001b[0mget_size\u001b[0m\u001b[0;34m(\u001b[0m\u001b[0;34m)\u001b[0m\u001b[0;34m\u001b[0m\u001b[0;34m\u001b[0m\u001b[0m\n\u001b[0;32m--> 120\u001b[0;31m         \u001b[0msize\u001b[0m \u001b[0;34m+=\u001b[0m \u001b[0mself\u001b[0m\u001b[0;34m.\u001b[0m\u001b[0mbody\u001b[0m\u001b[0;34m.\u001b[0m\u001b[0mget_size\u001b[0m\u001b[0;34m(\u001b[0m\u001b[0;34m)\u001b[0m\u001b[0;34m\u001b[0m\u001b[0;34m\u001b[0m\u001b[0m\n\u001b[0m\u001b[1;32m    121\u001b[0m         \u001b[0;32mreturn\u001b[0m \u001b[0msize\u001b[0m\u001b[0;34m\u001b[0m\u001b[0;34m\u001b[0m\u001b[0m\n\u001b[1;32m    122\u001b[0m \u001b[0;34m\u001b[0m\u001b[0m\n",
      "\u001b[0;32m/usr/local/pyenv/versions/jupyter/lib/python3.9/site-packages/symbol_catbuffer/TransferTransactionBodyBuilder.py\u001b[0m in \u001b[0;36mget_size\u001b[0;34m(self)\u001b[0m\n\u001b[1;32m     92\u001b[0m         \"\"\"\n\u001b[1;32m     93\u001b[0m         \u001b[0msize\u001b[0m \u001b[0;34m=\u001b[0m \u001b[0;36m0\u001b[0m\u001b[0;34m\u001b[0m\u001b[0;34m\u001b[0m\u001b[0m\n\u001b[0;32m---> 94\u001b[0;31m         \u001b[0msize\u001b[0m \u001b[0;34m+=\u001b[0m \u001b[0mUnresolvedAddressDto\u001b[0m\u001b[0;34m(\u001b[0m\u001b[0mself\u001b[0m\u001b[0;34m.\u001b[0m\u001b[0mrecipient_address\u001b[0m\u001b[0;34m)\u001b[0m\u001b[0;34m.\u001b[0m\u001b[0mget_size\u001b[0m\u001b[0;34m(\u001b[0m\u001b[0;34m)\u001b[0m\u001b[0;34m\u001b[0m\u001b[0;34m\u001b[0m\u001b[0m\n\u001b[0m\u001b[1;32m     95\u001b[0m         \u001b[0msize\u001b[0m \u001b[0;34m+=\u001b[0m \u001b[0;36m2\u001b[0m  \u001b[0;31m# message_size\u001b[0m\u001b[0;34m\u001b[0m\u001b[0;34m\u001b[0m\u001b[0m\n\u001b[1;32m     96\u001b[0m         \u001b[0msize\u001b[0m \u001b[0;34m+=\u001b[0m \u001b[0;36m1\u001b[0m  \u001b[0;31m# mosaics_count\u001b[0m\u001b[0;34m\u001b[0m\u001b[0;34m\u001b[0m\u001b[0m\n",
      "\u001b[0;32m/usr/local/pyenv/versions/jupyter/lib/python3.9/site-packages/symbol_catbuffer/UnresolvedAddressDto.py\u001b[0m in \u001b[0;36m__init__\u001b[0;34m(self, unresolvedAddress)\u001b[0m\n\u001b[1;32m     39\u001b[0m             \u001b[0munresolvedAddress\u001b[0m\u001b[0;34m:\u001b[0m \u001b[0mUnresolved\u001b[0m \u001b[0maddress\u001b[0m\u001b[0;34m.\u001b[0m\u001b[0;34m\u001b[0m\u001b[0;34m\u001b[0m\u001b[0m\n\u001b[1;32m     40\u001b[0m         \"\"\"\n\u001b[0;32m---> 41\u001b[0;31m         \u001b[0;32massert\u001b[0m \u001b[0mlen\u001b[0m\u001b[0;34m(\u001b[0m\u001b[0munresolvedAddress\u001b[0m\u001b[0;34m)\u001b[0m \u001b[0;34m==\u001b[0m \u001b[0;36m24\u001b[0m\u001b[0;34m,\u001b[0m \u001b[0;34m'required argument bytes({})'\u001b[0m\u001b[0;34m.\u001b[0m\u001b[0mformat\u001b[0m\u001b[0;34m(\u001b[0m\u001b[0;36m24\u001b[0m\u001b[0;34m)\u001b[0m\u001b[0;34m\u001b[0m\u001b[0;34m\u001b[0m\u001b[0m\n\u001b[0m\u001b[1;32m     42\u001b[0m         \u001b[0mself\u001b[0m\u001b[0;34m.\u001b[0m\u001b[0munresolvedAddress\u001b[0m \u001b[0;34m=\u001b[0m \u001b[0munresolvedAddress\u001b[0m\u001b[0;34m\u001b[0m\u001b[0;34m\u001b[0m\u001b[0m\n\u001b[1;32m     43\u001b[0m \u001b[0;34m\u001b[0m\u001b[0m\n",
      "\u001b[0;31mAssertionError\u001b[0m: required argument bytes(24)"
     ]
    }
   ],
   "source": [
    "# アグリゲートトランザクションの作成と署名\n",
    "\n",
    "bobPubkey = strBobPubkey\n",
    "bobAddress = strBobAddress\n",
    "\n",
    "msg = 'test'\n",
    "bobTx = facade.transaction_factory.create_embedded({\n",
    "    'type': 'transfer',\n",
    "    'signer_public_key': bobPubkey,\n",
    "    'recipient_address': aliceAddress,\n",
    "    'message': bytes(1) + msg.encode('utf8')\n",
    "})\n",
    "\n",
    "aliceTx = facade.transaction_factory.create_embedded({\n",
    "    'type': 'transfer',\n",
    "    'signer_public_key': alicePubkey,\n",
    "    'recipient_address': bobAddress,\n",
    "    'message': bytes(1) + msg.encode('utf8')\n",
    "})\n",
    "\n",
    "from symbolchain.core.sym.MerkleHashBuilder import MerkleHashBuilder\n",
    "from symbolchain.core.CryptoTypes import Hash256\n",
    "import sha3\n",
    "\n",
    "hash_builder = MerkleHashBuilder()\n",
    "hash_builder.update(Hash256(sha3.sha3_256(aliceTx.serialize()).digest()))\n",
    "hash_builder.update(Hash256(sha3.sha3_256(bobTx.serialize()).digest()))\n",
    "merkle_hash = hash_builder.final()\n",
    "\n",
    "import datetime\n",
    "deadline = (int((datetime.datetime.today() + datetime.timedelta(hours=2)).timestamp()) - 1616694977) * 1000\n",
    "\n",
    "aggregate = facade.transaction_factory.create({\n",
    "    'type': 'aggregateBonded',\n",
    "    'signer_public_key': alicePubkey,\n",
    "    'fee': 1000000,\n",
    "    'deadline': deadline,\n",
    "    'transactions_hash': merkle_hash,\n",
    "    'transactions': [aliceTx,bobTx]\n",
    "})\n",
    "\n",
    "signature = facade.sign_transaction(aliceKeypair, aggregate)\n",
    "aggregate.signature = signature.bytes"
   ]
  }
 ],
 "metadata": {
  "kernelspec": {
   "display_name": "Python 3",
   "language": "python",
   "name": "python3"
  },
  "language_info": {
   "codemirror_mode": {
    "name": "ipython",
    "version": 3
   },
   "file_extension": ".py",
   "mimetype": "text/x-python",
   "name": "python",
   "nbconvert_exporter": "python",
   "pygments_lexer": "ipython3",
   "version": "3.9.5"
  }
 },
 "nbformat": 4,
 "nbformat_minor": 5
}
