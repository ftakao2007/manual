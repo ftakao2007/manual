{
 "cells": [
  {
   "cell_type": "markdown",
   "id": "4951b76e",
   "metadata": {},
   "source": [
    "# Pythonでブロックチェーンを操作する\n",
    "\n",
    "[PythonでSymbolブロックチェーンの送金プログラムを書いてみる。](https://qiita.com/nem_takanobu/items/f3c02caa17ad385b6155)"
   ]
  },
  {
   "cell_type": "code",
   "execution_count": 87,
   "id": "292bcf56",
   "metadata": {},
   "outputs": [],
   "source": [
    "# 1. unhexlifyを使用して秘密鍵をバイナリ化\n",
    "# binascii  : バイナリと ASCII コード化されたバイナリ表現との間の変換を行うための多数のメソッドが含まれているモジュール\n",
    "# unhexlify : 16進数表記の文字列 hexstr の表すバイナリデータを返す(バイナリ変換)\n",
    "from binascii import unhexlify\n",
    "b = unhexlify(\"ひみつ\")"
   ]
  },
  {
   "cell_type": "code",
   "execution_count": 83,
   "id": "5d5ac94e",
   "metadata": {},
   "outputs": [
    {
     "name": "stdout",
     "output_type": "stream",
     "text": [
      "val1 = b'\\x12\\x83e\\xc4'\n",
      "val2 = b'128365c4'\n"
     ]
    }
   ],
   "source": [
    "### unhexlifyかくにん\n",
    "from binascii import hexlify\n",
    "from binascii import unhexlify\n",
    "val1 = unhexlify(\"128365C4\")\n",
    "print(\"val1 =\", val1)\n",
    "val2 = hexlify(b'\\x12\\x83e\\xc4')\n",
    "print(\"val2 =\", val2)"
   ]
  },
  {
   "cell_type": "code",
   "execution_count": 84,
   "id": "5064479f",
   "metadata": {},
   "outputs": [
    {
     "name": "stdout",
     "output_type": "stream",
     "text": [
      "val1 = b'\\x00\\x00'\n",
      "val2 = b'\\x00\\x00'\n",
      "val3 = b'abc'\n",
      "val4 = b'abc'\n",
      "val5 = b'\\xe3\\x81\\x82'\n",
      "val6 = b'\\xe3\\x81\\x82'\n"
     ]
    }
   ],
   "source": [
    "### ※ ここはブロックチェーン全く関係なし。個人的に調べただけ。\n",
    "\n",
    "### byte型について https://www.atmarkit.co.jp/ait/articles/1910/01/news020.html#bytestype\n",
    "### bytes関数に整数値を1つ渡すと、全ての要素がゼロ（\\x00）とし、\n",
    "### 渡された整数値をそのサイズ（要素数）とするbytesオブジェクトが作成される。\n",
    "### 以下は2バイトでその要素が全てゼロのbytesオブジェクトが作られる。\n",
    "val1 = bytes(2)\n",
    "print(\"val1 =\", val1)\n",
    "### 以下と同様\n",
    "val2 = bytes([0, 0])\n",
    "print(\"val2 =\", val2)\n",
    "### 0～255の範囲の整数値を要素とするリストを渡すと、それらを要素とするbytesオブジェクトが作成される\n",
    "val3 = bytes([97, 98, 99])\n",
    "print(\"val3 =\", val3)\n",
    "### 文字列とそのエンコード方法をbytes関数に渡す\n",
    "val4 = bytes('abc', 'utf-8')\n",
    "print(\"val4 =\", val4)\n",
    "### 日本語「あ」\n",
    "val5 = bytes('あ', 'utf-8')\n",
    "print(\"val5 =\", val5)\n",
    "### 日本語「あ」の要素とbytesオブジェクト\n",
    "val6 = bytes([227, 129, 130])\n",
    "print(\"val6 =\", val6)"
   ]
  },
  {
   "cell_type": "code",
   "execution_count": 110,
   "id": "4b47fb34",
   "metadata": {},
   "outputs": [],
   "source": [
    "# 2.PrivateKeyクラスを生成\n",
    "from symbolchain.core.CryptoTypes import PrivateKey\n",
    "prikey = PrivateKey(b)"
   ]
  },
  {
   "cell_type": "code",
   "execution_count": 121,
   "id": "f9fa25a8",
   "metadata": {},
   "outputs": [
    {
     "name": "stdout",
     "output_type": "stream",
     "text": [
      "秘密鍵を16進数文字列にしてバイナリデータ化 : b'\\x12\\x83e\\xc4\\x12\\x83e\\xc4\\x12\\x83e\\xc4\\x12\\x83e\\xc4\\x12\\x83e\\xc4\\x12\\x83e\\xc4\\x12\\x83e\\xc4\\x12\\x83e\\xc4'\n",
      "<class 'symbolchain.core.CryptoTypes.PrivateKey'>\n",
      "128365C4128365C4128365C4128365C4128365C4128365C4128365C4128365C4\n",
      "b'\\x12\\x83e\\xc4\\x12\\x83e\\xc4\\x12\\x83e\\xc4\\x12\\x83e\\xc4\\x12\\x83e\\xc4\\x12\\x83e\\xc4\\x12\\x83e\\xc4\\x12\\x83e\\xc4'\n",
      "<function PrivateKey.random at 0x7f9ddf9ba5e0>\n",
      "32\n"
     ]
    }
   ],
   "source": [
    "### ※ バイナリ化せずそのまま文字列で渡しても動いた\n",
    "\n",
    "### PrivateKeyクラスかくにん\n",
    "from symbolchain.core.CryptoTypes import PrivateKey\n",
    "### 適当な秘密鍵\n",
    "bbb = unhexlify(\"128365C4128365C4128365C4128365C4128365C4128365C4128365C4128365C4\")\n",
    "print(\"秘密鍵を16進数文字列にしてバイナリデータ化 :\", bbb)\n",
    "prikey2 = PrivateKey(bbb)\n",
    "print(type(prikey2))\n",
    "print(prikey2)\n",
    "print(prikey2.bytes)\n",
    "print(prikey2.random)\n",
    "print(prikey2.SIZE)"
   ]
  },
  {
   "cell_type": "code",
   "execution_count": 165,
   "id": "9227fdfd",
   "metadata": {},
   "outputs": [
    {
     "name": "stdout",
     "output_type": "stream",
     "text": [
      "<class 'symbolchain.core.CryptoTypes.PrivateKey'>\n",
      "128365C4128365C4128365C4128365C4128365C4128365C4128365C4128365C4\n",
      "b'\\x12\\x83e\\xc4\\x12\\x83e\\xc4\\x12\\x83e\\xc4\\x12\\x83e\\xc4\\x12\\x83e\\xc4\\x12\\x83e\\xc4\\x12\\x83e\\xc4\\x12\\x83e\\xc4'\n",
      "<function PrivateKey.random at 0x7f9ddf9ba5e0>\n",
      "32\n"
     ]
    }
   ],
   "source": [
    "### 秘密鍵をバイナリ化せずPrivateKeyを生成しようとした場合\n",
    "ccc = \"128365C4128365C4128365C4128365C4128365C4128365C4128365C4128365C4\"\n",
    "prikey_test = PrivateKey(ccc)\n",
    "print(type(prikey_test))\n",
    "print(prikey_test)\n",
    "print(prikey_test.bytes)\n",
    "print(prikey_test.random)\n",
    "print(prikey_test.SIZE)"
   ]
  },
  {
   "cell_type": "code",
   "execution_count": 124,
   "id": "a0f34f25",
   "metadata": {},
   "outputs": [],
   "source": [
    "# 3. KeyPairを作成\n",
    "from symbolchain.core.sym.KeyPair import KeyPair\n",
    "keypair = KeyPair(prikey)"
   ]
  },
  {
   "cell_type": "code",
   "execution_count": 122,
   "id": "cc48d6e5",
   "metadata": {},
   "outputs": [
    {
     "name": "stdout",
     "output_type": "stream",
     "text": [
      "<class 'symbolchain.core.sym.KeyPair.KeyPair'>\n",
      "<symbolchain.core.sym.KeyPair.KeyPair object at 0x7f9ddf33ec70>\n",
      "128365C4128365C4128365C4128365C4128365C4128365C4128365C4128365C4\n",
      "B7A6C7F2741B17750FD065069D04DE3EAAADF6C84E418988E1FAD24C1F9A0F8E\n",
      "<bound method KeyPair.sign of <symbolchain.core.sym.KeyPair.KeyPair object at 0x7f9ddf33ec70>>\n"
     ]
    }
   ],
   "source": [
    "### KeyPairかくにん\n",
    "from symbolchain.core.sym.KeyPair import KeyPair\n",
    "keypair2 = KeyPair(prikey2)\n",
    "print(type(keypair2))\n",
    "print(keypair2)\n",
    "print(keypair2.private_key)\n",
    "pubkey2 = keypair2.public_key\n",
    "print(keypair2.public_key)\n",
    "print(keypair2.sign)"
   ]
  },
  {
   "cell_type": "code",
   "execution_count": 125,
   "id": "c2ff47cf",
   "metadata": {},
   "outputs": [
    {
     "name": "stdout",
     "output_type": "stream",
     "text": [
      "68641FB644954A5AD08F03B17CD028CCA01558DC610E3EF7ABE0ABF63E4236E8\n"
     ]
    }
   ],
   "source": [
    "# 4. PublicKeyを作成\n",
    "pubkey = keypair.public_key\n",
    "print(str(keypair.public_key))"
   ]
  },
  {
   "cell_type": "code",
   "execution_count": 126,
   "id": "86caac64",
   "metadata": {},
   "outputs": [],
   "source": [
    "# 5. Symbolのファサードを生成\n",
    "from symbolchain.core.facade.SymFacade import SymFacade\n",
    "facade = SymFacade('public_test')"
   ]
  },
  {
   "cell_type": "code",
   "execution_count": 161,
   "id": "195261f0",
   "metadata": {},
   "outputs": [
    {
     "name": "stdout",
     "output_type": "stream",
     "text": [
      "account_descriptor_repository : None\n",
      "Address : <class 'symbolchain.core.sym.Network.Address'>\n",
      "Address.mro : <built-in method mro of type object at 0x5613113d7990>\n",
      "Address.SIZE : 24\n",
      "Address.SIZE.real : 24\n",
      "BIP32_COIN_ID : 4343\n",
      "BIP32_CURVE_NAME : ed25519\n",
      "bip32_node_to_key_pair : <function SymFacade.bip32_node_to_key_pair at 0x7f9dde2b2820>\n",
      "hash_transaction : <bound method SymFacade.hash_transaction of <symbolchain.core.facade.SymFacade.SymFacade object at 0x7f9dde11c1c0>>\n",
      "KeyPair.mro : <built-in method mro of type object at 0x56131132c930>\n",
      "KeyPair.private_key : <property object at 0x7f9ddef84770>\n",
      "KeyPair.public_key : <property object at 0x7f9ddef843b0>\n",
      "KeyPair.sign : <function KeyPair.sign at 0x7f9ddf21b820>\n",
      "network : public_test\n",
      "network.public_key_to_address : <bound method Network.public_key_to_address of <symbolchain.core.sym.Network.Network object at 0x7f9ddf2cdd60>>\n",
      "network.public_key_to_address(pubkey2) : TCWOHE434WZFFYBH4X3W6YYXNJNRXTEDEUPBHFQ\n",
      "pubkey2 : B7A6C7F2741B17750FD065069D04DE3EAAADF6C84E418988E1FAD24C1F9A0F8E\n",
      "network.public_key_to_address(pubkey2) : NCWOHE434WZFFYBH4X3W6YYXNJNRXTEDEW4MAKA\n",
      "pubkey2 : B7A6C7F2741B17750FD065069D04DE3EAAADF6C84E418988E1FAD24C1F9A0F8E\n",
      "<class 'symbolchain.core.sym.Network.Address'>\n",
      "TCWOHE434WZFFYBH4X3W6YYXNJNRXTEDEUPBHFQ\n"
     ]
    }
   ],
   "source": [
    "### Symbolのファサードかくにん\n",
    "from symbolchain.core.facade.SymFacade import SymFacade\n",
    "facade2 = SymFacade('public_test')\n",
    "print(\"account_descriptor_repository :\", facade2.account_descriptor_repository)\n",
    "print(\"Address :\", facade2.Address)\n",
    "print(\"Address.mro :\", facade2.Address.mro)\n",
    "print(\"Address.SIZE :\", facade2.Address.SIZE)\n",
    "print(\"Address.SIZE.real :\", facade2.Address.SIZE.real)\n",
    "print(\"BIP32_COIN_ID :\", facade2.BIP32_COIN_ID)\n",
    "print(\"BIP32_CURVE_NAME :\", facade2.BIP32_CURVE_NAME)\n",
    "print(\"bip32_node_to_key_pair :\", facade2.bip32_node_to_key_pair)\n",
    "print(\"hash_transaction :\", facade2.hash_transaction)\n",
    "print(\"KeyPair.mro :\", facade2.KeyPair.mro)\n",
    "print(\"KeyPair.private_key :\", facade2.KeyPair.private_key)\n",
    "print(\"KeyPair.public_key :\", facade2.KeyPair.public_key)\n",
    "print(\"KeyPair.sign :\", facade2.KeyPair.sign)\n",
    "print(\"network :\", facade2.network)\n",
    "print(\"network.public_key_to_address :\", facade2.network.public_key_to_address)\n",
    "# 公開鍵(pubkey2)からテストネットにおけるアドレスを生成\n",
    "print(\"network.public_key_to_address(pubkey2) :\", facade2.network.public_key_to_address(pubkey2))\n",
    "print(\"pubkey2 :\", pubkey2)\n",
    "\n",
    "# 公開鍵(pubkey2)からメインネットにおけるアドレスを生成\n",
    "facade_main = SymFacade('public')\n",
    "#print(facade_main.network.public_key_to_address(pubkey2))\n",
    "print(\"network.public_key_to_address(pubkey2) :\", facade_main.network.public_key_to_address(pubkey2))\n",
    "print(\"pubkey2 :\", pubkey2)\n",
    "#print(\"a\", facade2.)\n",
    "\n",
    "# すでに知っているアドレスを利用するとき\n",
    "address2 = SymFacade.Address(\"TCWOHE434WZFFYBH4X3W6YYXNJNRXTEDEUPBHFQ\")\n",
    "print(type(address2))\n",
    "print(address2)"
   ]
  },
  {
   "cell_type": "code",
   "execution_count": 150,
   "id": "c1f1153a",
   "metadata": {},
   "outputs": [
    {
     "name": "stdout",
     "output_type": "stream",
     "text": [
      "TDIFOJ4FFN7F3OF6IRM5IMQ7WCTTFD7BDXDY7FQ\n"
     ]
    }
   ],
   "source": [
    "# 6. アドレスを生成\n",
    "address = facade.network.public_key_to_address(pubkey)\n",
    "print(str(address))"
   ]
  },
  {
   "cell_type": "code",
   "execution_count": 166,
   "id": "b943fa3a",
   "metadata": {},
   "outputs": [
    {
     "data": {
      "text/plain": [
       "6164122000"
      ]
     },
     "execution_count": 166,
     "metadata": {},
     "output_type": "execute_result"
    }
   ],
   "source": [
    "# 7. トランザクションの有効期限(2時間後)を設定\n",
    "# 1616694977 : Symbol(テストネット)が誕生したUTC秒\n",
    "# 1615853185 : Symbol(メインネット)が誕生したUTC秒\n",
    "\n",
    "import datetime\n",
    "deadline = (int((datetime.datetime.today() + datetime.timedelta(hours=2)).timestamp()) - 1616694977) * 1000\n",
    "deadline"
   ]
  },
  {
   "cell_type": "code",
   "execution_count": 205,
   "id": "47301b6a",
   "metadata": {},
   "outputs": [
    {
     "name": "stdout",
     "output_type": "stream",
     "text": [
      "今の時刻 : 2021-06-05 00:42:40.992004\n",
      "二時間ずらす為の値 : 2:00:00\n",
      "二時間後 : 2021-06-05 02:42:40.993282\n",
      "UNIX時間（エポック秒）に変換 : 1622860960.993613\n",
      "整数にする : 1622860960\n",
      "6165983\n",
      "6165983000\n"
     ]
    }
   ],
   "source": [
    "### 時間確認\n",
    "import datetime\n",
    "print(\"今の時刻 :\", datetime.datetime.today() )\n",
    "print(\"二時間ずらす為の値 :\", datetime.timedelta(hours=2) )\n",
    "print(\"二時間後 :\", datetime.datetime.today() + datetime.timedelta(hours=2) )\n",
    "print(\"UNIX時間（エポック秒）に変換 :\", (datetime.datetime.today() + datetime.timedelta(hours=2)).timestamp() )\n",
    "print(\"整数にする :\", int((datetime.datetime.today() + datetime.timedelta(hours=2)).timestamp()) )\n",
    "print( int((datetime.datetime.today() + datetime.timedelta(hours=2)).timestamp()) -  1616694977 )\n",
    "print( (int((datetime.datetime.today() + datetime.timedelta(hours=2)).timestamp()) -  1616694977) * 1000  )"
   ]
  },
  {
   "cell_type": "code",
   "execution_count": 223,
   "id": "08300002",
   "metadata": {},
   "outputs": [],
   "source": [
    "# 8.トランザクション作成\n",
    "tx = facade.transaction_factory.create({\n",
    "  'type': 'transfer',\n",
    "  'signer_public_key': pubkey,\n",
    "  'fee': 100000,\n",
    "  'deadline': deadline,\n",
    "  'recipient_address': address,\n",
    "  'mosaics': [(0x091F837E059AE13C, 1000000)],\n",
    "  'message': bytes(1) + \"fuga\".encode(\"utf8\")\n",
    "})"
   ]
  },
  {
   "cell_type": "code",
   "execution_count": 222,
   "id": "a73201f9",
   "metadata": {},
   "outputs": [
    {
     "name": "stdout",
     "output_type": "stream",
     "text": [
      "type : 16724\n",
      "signer_public_key : b'hd\\x1f\\xb6D\\x95JZ\\xd0\\x8f\\x03\\xb1|\\xd0(\\xcc\\xa0\\x15X\\xdca\\x0e>\\xf7\\xab\\xe0\\xab\\xf6>B6\\xe8'\n",
      "fee : 100000\n",
      "deadline : 6164122000\n",
      "recipient_address : b\"\\x98\\xd0W'\\x85+~]\\xb8\\xbeDY\\xd42\\x1f\\xb0\\xa72\\x8f\\xe1\\x1d\\xc7\\x8f\\x96\"\n",
      "mosaics : [(657388647902535996, 1000000)]\n",
      "message : b'\\x00fuga'\n",
      "get_size : <bound method TransferTransactionBuilder.get_size of <symbol_catbuffer.TransferTransactionBuilder.TransferTransactionBuilder object at 0x7f9dde1b8880>>\n",
      "load_from_binary : <bound method TransferTransactionBuilder.load_from_binary of <class 'symbol_catbuffer.TransferTransactionBuilder.TransferTransactionBuilder'>>\n",
      "network : NetworkTypeDto.PUBLIC_TEST\n",
      "serialize : <bound method TransferTransactionBuilder.serialize of <symbol_catbuffer.TransferTransactionBuilder.TransferTransactionBuilder object at 0x7f9dde1b8880>>\n",
      "signature : b'\\x00\\x00\\x00\\x00\\x00\\x00\\x00\\x00\\x00\\x00\\x00\\x00\\x00\\x00\\x00\\x00\\x00\\x00\\x00\\x00\\x00\\x00\\x00\\x00\\x00\\x00\\x00\\x00\\x00\\x00\\x00\\x00\\x00\\x00\\x00\\x00\\x00\\x00\\x00\\x00\\x00\\x00\\x00\\x00\\x00\\x00\\x00\\x00\\x00\\x00\\x00\\x00\\x00\\x00\\x00\\x00\\x00\\x00\\x00\\x00\\x00\\x00\\x00\\x00'\n",
      "type_hints : {'signature': 'SignatureDto', 'signer_public_key': 'KeyDto', 'network': 'enum:NetworkTypeDto', 'type': 'enum:EntityTypeDto', 'fee': 'AmountDto', 'deadline': 'TimestampDto', 'recipient_address': 'UnresolvedAddressDto', 'mosaics': 'array'}\n"
     ]
    }
   ],
   "source": [
    "### トランザクションれんしゅう\n",
    "tx = facade.transaction_factory.create({\n",
    "  'type': 'transfer',\n",
    "  'signer_public_key': pubkey,\n",
    "  'fee': 100000,\n",
    "  'deadline': deadline,\n",
    "  'recipient_address': address,\n",
    "  'mosaics': [(0x091F837E059AE13C, 1000000)],\n",
    "  'message': bytes(1) + \"fuga\".encode(\"utf8\")\n",
    "})\n",
    "\n",
    "print(\"type :\", tx.type)\n",
    "print(\"signer_public_key :\", tx.signer_public_key)\n",
    "print(\"fee :\", tx.fee)\n",
    "print(\"deadline :\", tx.deadline)\n",
    "print(\"recipient_address :\", tx.recipient_address)\n",
    "print(\"mosaics :\", tx.mosaics)\n",
    "print(\"message :\", tx.message)\n",
    "\n",
    "print(\"get_size :\", tx.get_size)\n",
    "print(\"load_from_binary :\", tx.load_from_binary)\n",
    "print(\"network :\", tx.network)\n",
    "print(\"serialize :\", tx.serialize)\n",
    "print(\"signature :\", tx.signature)\n",
    "print(\"type_hints :\", tx.type_hints)\n"
   ]
  },
  {
   "cell_type": "code",
   "execution_count": 224,
   "id": "25aafedd",
   "metadata": {},
   "outputs": [
    {
     "name": "stdout",
     "output_type": "stream",
     "text": [
      "b'\\x00hoge'\n"
     ]
    },
    {
     "ename": "TypeError",
     "evalue": "can't concat str to bytes",
     "output_type": "error",
     "traceback": [
      "\u001b[0;31m---------------------------------------------------------------------------\u001b[0m",
      "\u001b[0;31mTypeError\u001b[0m                                 Traceback (most recent call last)",
      "\u001b[0;32m<ipython-input-224-194c2df958f2>\u001b[0m in \u001b[0;36m<module>\u001b[0;34m\u001b[0m\n\u001b[1;32m      1\u001b[0m \u001b[0;31m### メッセージの文字列れんしゅう\u001b[0m\u001b[0;34m\u001b[0m\u001b[0;34m\u001b[0m\u001b[0;34m\u001b[0m\u001b[0m\n\u001b[1;32m      2\u001b[0m \u001b[0mprint\u001b[0m\u001b[0;34m(\u001b[0m\u001b[0mbytes\u001b[0m\u001b[0;34m(\u001b[0m\u001b[0;36m1\u001b[0m\u001b[0;34m)\u001b[0m \u001b[0;34m+\u001b[0m \u001b[0;34m\"hoge\"\u001b[0m\u001b[0;34m.\u001b[0m\u001b[0mencode\u001b[0m\u001b[0;34m(\u001b[0m\u001b[0;34m\"utf8\"\u001b[0m\u001b[0;34m)\u001b[0m\u001b[0;34m)\u001b[0m\u001b[0;34m\u001b[0m\u001b[0;34m\u001b[0m\u001b[0m\n\u001b[0;32m----> 3\u001b[0;31m \u001b[0mprint\u001b[0m\u001b[0;34m(\u001b[0m\u001b[0mbytes\u001b[0m\u001b[0;34m(\u001b[0m\u001b[0;36m1\u001b[0m\u001b[0;34m)\u001b[0m \u001b[0;34m+\u001b[0m \u001b[0;34m\"hoge\"\u001b[0m\u001b[0;34m)\u001b[0m\u001b[0;34m\u001b[0m\u001b[0;34m\u001b[0m\u001b[0m\n\u001b[0m",
      "\u001b[0;31mTypeError\u001b[0m: can't concat str to bytes"
     ]
    }
   ],
   "source": [
    "### メッセージの文字列れんしゅう\n",
    "print(bytes(1) + \"hoge\".encode(\"utf8\"))\n",
    "print(bytes(1) + \"hoge\")"
   ]
  },
  {
   "cell_type": "code",
   "execution_count": 249,
   "id": "10fca22b",
   "metadata": {},
   "outputs": [],
   "source": [
    "# 9.署名\n",
    "signature = facade.sign_transaction(keypair, tx)\n",
    "tx.signature = signature.bytes"
   ]
  },
  {
   "cell_type": "code",
   "execution_count": 250,
   "id": "7cddbb12",
   "metadata": {},
   "outputs": [
    {
     "name": "stdout",
     "output_type": "stream",
     "text": [
      "<symbolchain.core.sym.KeyPair.KeyPair object at 0x7f9ddf33e160>\n",
      "<class 'symbolchain.core.CryptoTypes.Signature'>\n",
      "signature : 5A882361680B52065F1C38102797A6111718F962CC5EF67CA463A3F782E85650C6A3410B3FFD322FCFB04B28A41845D106FD5AA1C6EEEAAFDAE4889AF5A9A303\n",
      "signature.bytes : b\"Z\\x88#ah\\x0bR\\x06_\\x1c8\\x10'\\x97\\xa6\\x11\\x17\\x18\\xf9b\\xcc^\\xf6|\\xa4c\\xa3\\xf7\\x82\\xe8VP\\xc6\\xa3A\\x0b?\\xfd2/\\xcf\\xb0K(\\xa4\\x18E\\xd1\\x06\\xfdZ\\xa1\\xc6\\xee\\xea\\xaf\\xda\\xe4\\x88\\x9a\\xf5\\xa9\\xa3\\x03\"\n",
      "tx.signature : b\"Z\\x88#ah\\x0bR\\x06_\\x1c8\\x10'\\x97\\xa6\\x11\\x17\\x18\\xf9b\\xcc^\\xf6|\\xa4c\\xa3\\xf7\\x82\\xe8VP\\xc6\\xa3A\\x0b?\\xfd2/\\xcf\\xb0K(\\xa4\\x18E\\xd1\\x06\\xfdZ\\xa1\\xc6\\xee\\xea\\xaf\\xda\\xe4\\x88\\x9a\\xf5\\xa9\\xa3\\x03\"\n",
      "-----------------------------------------------\n",
      "size                     : b5000000\n",
      "<reserved>               : 00000000\n",
      "signature                : 5a882361680b52065f1c38102797a6111718f962cc5ef67ca463a3f782e85650c6a3410b3ffd322fcfb04b28a41845d106fd5aa1c6eeeaafdae4889af5a9a303\n",
      "signer_public_key        : 68641fb644954a5ad08f03b17cd028cca01558dc610e3ef7abe0abf63e4236e8\n",
      "<reserved>               : 00000000\n",
      "version                  : 01\n",
      "network                  : 98\n",
      "type                     : 5441\n",
      "fee                      : a086010000000000\n",
      "deadline                 : 9009696f01000000\n",
      "recipient_address        : 98d05727852b7e5db8be4459d4321fb0a7328fe11dc78f96\n",
      "message_size             : 0500\n",
      "mosaics_count            : 01\n",
      "<reserved>               : 00000000\n",
      "<reserved>               : 00\n",
      "mosaics                  : [\n",
      "  (0x91f837e059ae13c, 1000000)\n",
      "]\n",
      "message                  : 0066756761\n",
      "\n"
     ]
    }
   ],
   "source": [
    "### 署名かくにん\n",
    "print(keypair)\n",
    "print(type(signature))\n",
    "print(\"signature :\", signature)\n",
    "print(\"signature.bytes :\", signature.bytes)\n",
    "print(\"tx.signature :\", tx.signature)\n",
    "print(\"-----------------------------------------------\")\n",
    "print(tx)"
   ]
  },
  {
   "cell_type": "code",
   "execution_count": 251,
   "id": "d37eae58",
   "metadata": {},
   "outputs": [],
   "source": [
    "# 10.JSON化\n",
    "from binascii import hexlify\n",
    "payload = {\"payload\": hexlify(tx.serialize()).decode('utf8').upper()}\n",
    "\n",
    "import json\n",
    "json = json.dumps(payload)"
   ]
  },
  {
   "cell_type": "code",
   "execution_count": 259,
   "id": "54aba5a0",
   "metadata": {},
   "outputs": [
    {
     "name": "stdout",
     "output_type": "stream",
     "text": [
      "b\"\\xb5\\x00\\x00\\x00\\x00\\x00\\x00\\x00Z\\x88#ah\\x0bR\\x06_\\x1c8\\x10'\\x97\\xa6\\x11\\x17\\x18\\xf9b\\xcc^\\xf6|\\xa4c\\xa3\\xf7\\x82\\xe8VP\\xc6\\xa3A\\x0b?\\xfd2/\\xcf\\xb0K(\\xa4\\x18E\\xd1\\x06\\xfdZ\\xa1\\xc6\\xee\\xea\\xaf\\xda\\xe4\\x88\\x9a\\xf5\\xa9\\xa3\\x03hd\\x1f\\xb6D\\x95JZ\\xd0\\x8f\\x03\\xb1|\\xd0(\\xcc\\xa0\\x15X\\xdca\\x0e>\\xf7\\xab\\xe0\\xab\\xf6>B6\\xe8\\x00\\x00\\x00\\x00\\x01\\x98TA\\xa0\\x86\\x01\\x00\\x00\\x00\\x00\\x00\\x90\\tio\\x01\\x00\\x00\\x00\\x98\\xd0W'\\x85+~]\\xb8\\xbeDY\\xd42\\x1f\\xb0\\xa72\\x8f\\xe1\\x1d\\xc7\\x8f\\x96\\x05\\x00\\x01\\x00\\x00\\x00\\x00\\x00<\\xe1\\x9a\\x05~\\x83\\x1f\\t@B\\x0f\\x00\\x00\\x00\\x00\\x00\\x00fuga\"\n",
      "-----------------------------------------------\n",
      "b'b5000000000000005a882361680b52065f1c38102797a6111718f962cc5ef67ca463a3f782e85650c6a3410b3ffd322fcfb04b28a41845d106fd5aa1c6eeeaafdae4889af5a9a30368641fb644954a5ad08f03b17cd028cca01558dc610e3ef7abe0abf63e4236e80000000001985441a0860100000000009009696f0100000098d05727852b7e5db8be4459d4321fb0a7328fe11dc78f9605000100000000003ce19a057e831f0940420f00000000000066756761'\n",
      "-----------------------------------------------\n",
      "b5000000000000005a882361680b52065f1c38102797a6111718f962cc5ef67ca463a3f782e85650c6a3410b3ffd322fcfb04b28a41845d106fd5aa1c6eeeaafdae4889af5a9a30368641fb644954a5ad08f03b17cd028cca01558dc610e3ef7abe0abf63e4236e80000000001985441a0860100000000009009696f0100000098d05727852b7e5db8be4459d4321fb0a7328fe11dc78f9605000100000000003ce19a057e831f0940420f00000000000066756761\n",
      "-----------------------------------------------\n",
      "B5000000000000005A882361680B52065F1C38102797A6111718F962CC5EF67CA463A3F782E85650C6A3410B3FFD322FCFB04B28A41845D106FD5AA1C6EEEAAFDAE4889AF5A9A30368641FB644954A5AD08F03B17CD028CCA01558DC610E3EF7ABE0ABF63E4236E80000000001985441A0860100000000009009696F0100000098D05727852B7E5DB8BE4459D4321FB0A7328FE11DC78F9605000100000000003CE19A057E831F0940420F00000000000066756761\n",
      "<class 'str'>\n",
      "-----------------------------------------------\n"
     ]
    },
    {
     "data": {
      "text/plain": [
       "'{\"payload\": \"B5000000000000005A882361680B52065F1C38102797A6111718F962CC5EF67CA463A3F782E85650C6A3410B3FFD322FCFB04B28A41845D106FD5AA1C6EEEAAFDAE4889AF5A9A30368641FB644954A5AD08F03B17CD028CCA01558DC610E3EF7ABE0ABF63E4236E80000000001985441A0860100000000009009696F0100000098D05727852B7E5DB8BE4459D4321FB0A7328FE11DC78F9605000100000000003CE19A057E831F0940420F00000000000066756761\"}'"
      ]
     },
     "execution_count": 259,
     "metadata": {},
     "output_type": "execute_result"
    }
   ],
   "source": [
    "### JSON化かくにん\n",
    "from binascii import hexlify\n",
    "payload = {\"payload\": hexlify(tx.serialize()).decode('utf8').upper()}\n",
    "print(tx.serialize())\n",
    "print(\"-----------------------------------------------\")\n",
    "print(hexlify(tx.serialize()))\n",
    "print(\"-----------------------------------------------\")\n",
    "print(hexlify(tx.serialize()).decode('utf8'))\n",
    "print(\"-----------------------------------------------\")\n",
    "print(hexlify(tx.serialize()).decode('utf8').upper())\n",
    "print(type(hexlify(tx.serialize()).decode('utf8').upper()))\n",
    "\n",
    "import json\n",
    "json = json.dumps(payload)\n",
    "print(\"-----------------------------------------------\")\n",
    "json"
   ]
  },
  {
   "cell_type": "code",
   "execution_count": 261,
   "id": "895b23fb",
   "metadata": {},
   "outputs": [
    {
     "name": "stdout",
     "output_type": "stream",
     "text": [
      "b'{\"payload\": \"B5000000000000005A882361680B52065F1C38102797A6111718F962CC5EF67CA463A3F782E85650C6A3410B3FFD322FCFB04B28A41845D106FD5AA1C6EEEAAFDAE4889AF5A9A30368641FB644954A5AD08F03B17CD028CCA01558DC610E3EF7ABE0ABF63E4236E80000000001985441A0860100000000009009696F0100000098D05727852B7E5DB8BE4459D4321FB0A7328FE11DC78F9605000100000000003CE19A057E831F0940420F00000000000066756761\"}'\n",
      "{\"payload\": \"B5000000000000005A882361680B52065F1C38102797A6111718F962CC5EF67CA463A3F782E85650C6A3410B3FFD322FCFB04B28A41845D106FD5AA1C6EEEAAFDAE4889AF5A9A30368641FB644954A5AD08F03B17CD028CCA01558DC610E3EF7ABE0ABF63E4236E80000000001985441A0860100000000009009696F0100000098D05727852B7E5DB8BE4459D4321FB0A7328FE11DC78F9605000100000000003CE19A057E831F0940420F00000000000066756761\"}\n",
      "<class 'str'>\n"
     ]
    }
   ],
   "source": [
    "### ※ 9～10は今のSDKを利用すると以下のように省略できる？\n",
    "signature = facade.sign_transaction(keypair, tx)\n",
    "payload = facade.transaction_factory.attach_signature(tx, signature)\n",
    "print(payload)\n",
    "print(payload.decode('utf8'))\n",
    "print(type(payload.decode('utf8')))"
   ]
  },
  {
   "cell_type": "code",
   "execution_count": 11,
   "id": "2f4108f1",
   "metadata": {},
   "outputs": [
    {
     "name": "stdout",
     "output_type": "stream",
     "text": [
      "202 Accepted\n"
     ]
    }
   ],
   "source": [
    "# 11.アナウンス\n",
    "headers = {'Content-type': 'application/json'}\n",
    "import http.client\n",
    "\n",
    "conn = http.client.HTTPConnection(\"sym-test-01.opening-line.jp\",3000)\n",
    "conn.request(\"PUT\", \"/transactions\", json,headers)\n",
    "\n",
    "response = conn.getresponse()\n",
    "print(response.status, response.reason)"
   ]
  },
  {
   "cell_type": "code",
   "execution_count": 12,
   "id": "747fd464",
   "metadata": {},
   "outputs": [
    {
     "name": "stdout",
     "output_type": "stream",
     "text": [
      "https://sym-test-01.opening-line.jp:3001/transactionStatus/433691BC813BD37E5239B24375CF33806F1A88DC631CB3B761DFDD9934EA851F\n"
     ]
    }
   ],
   "source": [
    "### 12.確認\n",
    "hash = facade.hash_transaction(tx)\n",
    "print('https://sym-test-01.opening-line.jp:3001/transactionStatus/' + str(hash))"
   ]
  },
  {
   "cell_type": "code",
   "execution_count": null,
   "id": "767a2560",
   "metadata": {},
   "outputs": [],
   "source": [
    "### ※9～11を省略した場合のアナウンスと確認\n",
    "import http.client\n",
    "\n",
    "url = 'ngl-dual-301.testnet.symboldev.network'\n",
    "headers = {'Content-type': 'application/json'}\n",
    "\n",
    "\n",
    "# リクエストの送信\n",
    "conn = http.client.HTTPConnection(url, 3000)\n",
    "conn.request(\"PUT\"\n",
    "             , \"/transactions\"\n",
    "             , payload\n",
    "             , headers)\n",
    "\n",
    "response = conn.getresponse()\n",
    "print(\"response status :\" + str(response.status) )\n",
    "print(response.reason)\n",
    "\n",
    "hash_tx = facade.hash_transaction(tx)\n",
    "print('http://' + url + ':3000/transactionStatus/' + str(hash_tx))"
   ]
  }
 ],
 "metadata": {
  "kernelspec": {
   "display_name": "Python 3",
   "language": "python",
   "name": "python3"
  },
  "language_info": {
   "codemirror_mode": {
    "name": "ipython",
    "version": 3
   },
   "file_extension": ".py",
   "mimetype": "text/x-python",
   "name": "python",
   "nbconvert_exporter": "python",
   "pygments_lexer": "ipython3",
   "version": "3.9.5"
  }
 },
 "nbformat": 4,
 "nbformat_minor": 5
}
